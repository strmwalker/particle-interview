{
  "nbformat": 4,
  "nbformat_minor": 0,
  "metadata": {
    "colab": {
      "name": "Particle.ipynb",
      "version": "0.3.2",
      "views": {},
      "default_view": {},
      "provenance": []
    },
    "kernelspec": {
      "name": "python2",
      "display_name": "Python 2"
    }
  },
  "cells": [
    {
      "metadata": {
        "id": "CmGmFTpTEtla",
        "colab_type": "code",
        "colab": {
          "autoexec": {
            "startup": false,
            "wait_interval": 0
          },
          "base_uri": "https://localhost:8080/",
          "height": 36
        },
        "outputId": "178d3c45-3844-46ad-a08a-ab96ea6fec19",
        "executionInfo": {
          "status": "ok",
          "timestamp": 1531059192985,
          "user_tz": -180,
          "elapsed": 549,
          "user": {
            "displayName": "Юрий Благовещенский",
            "photoUrl": "https://lh3.googleusercontent.com/a/default-user=s128",
            "userId": "106903727385134277650"
          }
        }
      },
      "cell_type": "code",
      "source": [
        "import pandas as pd\n",
        "import numpy as np\n",
        "import matplotlib.pyplot as plt\n",
        "%pylab inline"
      ],
      "execution_count": 1,
      "outputs": [
        {
          "output_type": "stream",
          "text": [
            "Populating the interactive namespace from numpy and matplotlib\n"
          ],
          "name": "stdout"
        }
      ]
    },
    {
      "metadata": {
        "id": "yG2EVQD3rT7P",
        "colab_type": "text"
      },
      "cell_type": "markdown",
      "source": [
        "## Question 1\n",
        "\n",
        "- Download daily stock prices for 3 stocks (e.g., Apple (AAPL), Google (GOOG), Facebook (FB)) for the last 10 years from AlphaVantage, Quandl, Yahoo, Google Finance or anywhere else\n",
        "\n",
        "- Refs:\n",
        "  - https://www.alphavantage.co/documentation/\n",
        "  - https://blog.quandl.com/api-for-stock-data\n",
        "  - https://www.quora.com/What-are-some-good-APIs-to-get-real-time-stock-quotes\n",
        "\n",
        "- You can use close prices"
      ]
    },
    {
      "metadata": {
        "id": "UWAwD-7IE5t2",
        "colab_type": "code",
        "colab": {
          "autoexec": {
            "startup": false,
            "wait_interval": 0
          },
          "base_uri": "https://localhost:8080/",
          "height": 0
        },
        "outputId": "1bdfc3dd-1906-4204-aef0-c8a0b4ee2e88",
        "executionInfo": {
          "status": "ok",
          "timestamp": 1531059194766,
          "user_tz": -180,
          "elapsed": 570,
          "user": {
            "displayName": "Юрий Благовещенский",
            "photoUrl": "https://lh3.googleusercontent.com/a/default-user=s128",
            "userId": "106903727385134277650"
          }
        }
      },
      "cell_type": "code",
      "source": [
        "API_KEY='A94WUGPZZ2RRCM8Z'"
      ],
      "execution_count": 2,
      "outputs": []
    },
    {
      "metadata": {
        "id": "7y2moQrLF3_t",
        "colab_type": "code",
        "colab": {
          "autoexec": {
            "startup": false,
            "wait_interval": 0
          },
          "base_uri": "https://localhost:8080/",
          "height": 0
        },
        "outputId": "3eafb1c6-5e64-4ed9-8522-e93f49a83fee",
        "executionInfo": {
          "status": "ok",
          "timestamp": 1531059195528,
          "user_tz": -180,
          "elapsed": 614,
          "user": {
            "displayName": "Юрий Благовещенский",
            "photoUrl": "https://lh3.googleusercontent.com/a/default-user=s128",
            "userId": "106903727385134277650"
          }
        }
      },
      "cell_type": "code",
      "source": [
        "base_url = 'https://www.alphavantage.co/query?function=TIME_SERIES_DAILY&symbol={symbol}&apikey={api_key}&datatype=csv&outputsize=full'"
      ],
      "execution_count": 3,
      "outputs": []
    },
    {
      "metadata": {
        "id": "NQFnfNoaFZs3",
        "colab_type": "code",
        "colab": {
          "autoexec": {
            "startup": false,
            "wait_interval": 0
          },
          "base_uri": "https://localhost:8080/",
          "height": 206
        },
        "outputId": "15a863fa-81d3-4fcc-d3e0-ef7c4fd1a71a",
        "executionInfo": {
          "status": "ok",
          "timestamp": 1531059201596,
          "user_tz": -180,
          "elapsed": 5934,
          "user": {
            "displayName": "Юрий Благовещенский",
            "photoUrl": "https://lh3.googleusercontent.com/a/default-user=s128",
            "userId": "106903727385134277650"
          }
        }
      },
      "cell_type": "code",
      "source": [
        "aapl = pd.read_csv(base_url.format(symbol='AAPL', api_key=API_KEY))\n",
        "aapl.head()"
      ],
      "execution_count": 4,
      "outputs": [
        {
          "output_type": "execute_result",
          "data": {
            "text/html": [
              "<div>\n",
              "<style scoped>\n",
              "    .dataframe tbody tr th:only-of-type {\n",
              "        vertical-align: middle;\n",
              "    }\n",
              "\n",
              "    .dataframe tbody tr th {\n",
              "        vertical-align: top;\n",
              "    }\n",
              "\n",
              "    .dataframe thead th {\n",
              "        text-align: right;\n",
              "    }\n",
              "</style>\n",
              "<table border=\"1\" class=\"dataframe\">\n",
              "  <thead>\n",
              "    <tr style=\"text-align: right;\">\n",
              "      <th></th>\n",
              "      <th>timestamp</th>\n",
              "      <th>open</th>\n",
              "      <th>high</th>\n",
              "      <th>low</th>\n",
              "      <th>close</th>\n",
              "      <th>volume</th>\n",
              "    </tr>\n",
              "  </thead>\n",
              "  <tbody>\n",
              "    <tr>\n",
              "      <th>0</th>\n",
              "      <td>2018-07-06</td>\n",
              "      <td>185.42</td>\n",
              "      <td>188.434</td>\n",
              "      <td>185.20</td>\n",
              "      <td>187.97</td>\n",
              "      <td>17485245</td>\n",
              "    </tr>\n",
              "    <tr>\n",
              "      <th>1</th>\n",
              "      <td>2018-07-05</td>\n",
              "      <td>185.26</td>\n",
              "      <td>186.410</td>\n",
              "      <td>184.28</td>\n",
              "      <td>185.40</td>\n",
              "      <td>16604248</td>\n",
              "    </tr>\n",
              "    <tr>\n",
              "      <th>2</th>\n",
              "      <td>2018-07-03</td>\n",
              "      <td>187.79</td>\n",
              "      <td>187.950</td>\n",
              "      <td>183.54</td>\n",
              "      <td>183.92</td>\n",
              "      <td>13954806</td>\n",
              "    </tr>\n",
              "    <tr>\n",
              "      <th>3</th>\n",
              "      <td>2018-07-02</td>\n",
              "      <td>183.82</td>\n",
              "      <td>187.300</td>\n",
              "      <td>183.42</td>\n",
              "      <td>187.18</td>\n",
              "      <td>17731343</td>\n",
              "    </tr>\n",
              "    <tr>\n",
              "      <th>4</th>\n",
              "      <td>2018-06-29</td>\n",
              "      <td>186.29</td>\n",
              "      <td>187.190</td>\n",
              "      <td>182.91</td>\n",
              "      <td>185.11</td>\n",
              "      <td>22737666</td>\n",
              "    </tr>\n",
              "  </tbody>\n",
              "</table>\n",
              "</div>"
            ],
            "text/plain": [
              "    timestamp    open     high     low   close    volume\n",
              "0  2018-07-06  185.42  188.434  185.20  187.97  17485245\n",
              "1  2018-07-05  185.26  186.410  184.28  185.40  16604248\n",
              "2  2018-07-03  187.79  187.950  183.54  183.92  13954806\n",
              "3  2018-07-02  183.82  187.300  183.42  187.18  17731343\n",
              "4  2018-06-29  186.29  187.190  182.91  185.11  22737666"
            ]
          },
          "metadata": {
            "tags": []
          },
          "execution_count": 4
        }
      ]
    },
    {
      "metadata": {
        "id": "KMLCmg63HGN1",
        "colab_type": "code",
        "colab": {
          "autoexec": {
            "startup": false,
            "wait_interval": 0
          },
          "base_uri": "https://localhost:8080/",
          "height": 206
        },
        "outputId": "86bddb5e-5a6f-4679-d951-6a04a4d18e3e",
        "executionInfo": {
          "status": "ok",
          "timestamp": 1531059203560,
          "user_tz": -180,
          "elapsed": 1886,
          "user": {
            "displayName": "Юрий Благовещенский",
            "photoUrl": "https://lh3.googleusercontent.com/a/default-user=s128",
            "userId": "106903727385134277650"
          }
        }
      },
      "cell_type": "code",
      "source": [
        "goog = pd.read_csv(base_url.format(symbol='GOOG', api_key=API_KEY))\n",
        "goog.head()"
      ],
      "execution_count": 5,
      "outputs": [
        {
          "output_type": "execute_result",
          "data": {
            "text/html": [
              "<div>\n",
              "<style scoped>\n",
              "    .dataframe tbody tr th:only-of-type {\n",
              "        vertical-align: middle;\n",
              "    }\n",
              "\n",
              "    .dataframe tbody tr th {\n",
              "        vertical-align: top;\n",
              "    }\n",
              "\n",
              "    .dataframe thead th {\n",
              "        text-align: right;\n",
              "    }\n",
              "</style>\n",
              "<table border=\"1\" class=\"dataframe\">\n",
              "  <thead>\n",
              "    <tr style=\"text-align: right;\">\n",
              "      <th></th>\n",
              "      <th>timestamp</th>\n",
              "      <th>open</th>\n",
              "      <th>high</th>\n",
              "      <th>low</th>\n",
              "      <th>close</th>\n",
              "      <th>volume</th>\n",
              "    </tr>\n",
              "  </thead>\n",
              "  <tbody>\n",
              "    <tr>\n",
              "      <th>0</th>\n",
              "      <td>2018-07-06</td>\n",
              "      <td>1123.58</td>\n",
              "      <td>1140.93</td>\n",
              "      <td>1120.74</td>\n",
              "      <td>1140.17</td>\n",
              "      <td>996079</td>\n",
              "    </tr>\n",
              "    <tr>\n",
              "      <th>1</th>\n",
              "      <td>2018-07-05</td>\n",
              "      <td>1110.53</td>\n",
              "      <td>1127.50</td>\n",
              "      <td>1108.48</td>\n",
              "      <td>1124.27</td>\n",
              "      <td>1066685</td>\n",
              "    </tr>\n",
              "    <tr>\n",
              "      <th>2</th>\n",
              "      <td>2018-07-03</td>\n",
              "      <td>1135.82</td>\n",
              "      <td>1135.82</td>\n",
              "      <td>1100.02</td>\n",
              "      <td>1102.89</td>\n",
              "      <td>679034</td>\n",
              "    </tr>\n",
              "    <tr>\n",
              "      <th>3</th>\n",
              "      <td>2018-07-02</td>\n",
              "      <td>1099.00</td>\n",
              "      <td>1128.00</td>\n",
              "      <td>1093.80</td>\n",
              "      <td>1127.46</td>\n",
              "      <td>1217311</td>\n",
              "    </tr>\n",
              "    <tr>\n",
              "      <th>4</th>\n",
              "      <td>2018-06-29</td>\n",
              "      <td>1120.00</td>\n",
              "      <td>1128.23</td>\n",
              "      <td>1115.00</td>\n",
              "      <td>1115.65</td>\n",
              "      <td>1315121</td>\n",
              "    </tr>\n",
              "  </tbody>\n",
              "</table>\n",
              "</div>"
            ],
            "text/plain": [
              "    timestamp     open     high      low    close   volume\n",
              "0  2018-07-06  1123.58  1140.93  1120.74  1140.17   996079\n",
              "1  2018-07-05  1110.53  1127.50  1108.48  1124.27  1066685\n",
              "2  2018-07-03  1135.82  1135.82  1100.02  1102.89   679034\n",
              "3  2018-07-02  1099.00  1128.00  1093.80  1127.46  1217311\n",
              "4  2018-06-29  1120.00  1128.23  1115.00  1115.65  1315121"
            ]
          },
          "metadata": {
            "tags": []
          },
          "execution_count": 5
        }
      ]
    },
    {
      "metadata": {
        "id": "ybSeeXClHfAP",
        "colab_type": "code",
        "colab": {
          "autoexec": {
            "startup": false,
            "wait_interval": 0
          },
          "base_uri": "https://localhost:8080/",
          "height": 206
        },
        "outputId": "6a6ecf73-55ef-432f-9fcf-d8fb9f86464f",
        "executionInfo": {
          "status": "ok",
          "timestamp": 1531059206016,
          "user_tz": -180,
          "elapsed": 2319,
          "user": {
            "displayName": "Юрий Благовещенский",
            "photoUrl": "https://lh3.googleusercontent.com/a/default-user=s128",
            "userId": "106903727385134277650"
          }
        }
      },
      "cell_type": "code",
      "source": [
        "fb = pd.read_csv(base_url.format(symbol='FB', api_key=API_KEY))\n",
        "fb.head()"
      ],
      "execution_count": 6,
      "outputs": [
        {
          "output_type": "execute_result",
          "data": {
            "text/html": [
              "<div>\n",
              "<style scoped>\n",
              "    .dataframe tbody tr th:only-of-type {\n",
              "        vertical-align: middle;\n",
              "    }\n",
              "\n",
              "    .dataframe tbody tr th {\n",
              "        vertical-align: top;\n",
              "    }\n",
              "\n",
              "    .dataframe thead th {\n",
              "        text-align: right;\n",
              "    }\n",
              "</style>\n",
              "<table border=\"1\" class=\"dataframe\">\n",
              "  <thead>\n",
              "    <tr style=\"text-align: right;\">\n",
              "      <th></th>\n",
              "      <th>timestamp</th>\n",
              "      <th>open</th>\n",
              "      <th>high</th>\n",
              "      <th>low</th>\n",
              "      <th>close</th>\n",
              "      <th>volume</th>\n",
              "    </tr>\n",
              "  </thead>\n",
              "  <tbody>\n",
              "    <tr>\n",
              "      <th>0</th>\n",
              "      <td>2018-07-06</td>\n",
              "      <td>198.45</td>\n",
              "      <td>203.6400</td>\n",
              "      <td>197.700</td>\n",
              "      <td>203.23</td>\n",
              "      <td>19740131</td>\n",
              "    </tr>\n",
              "    <tr>\n",
              "      <th>1</th>\n",
              "      <td>2018-07-05</td>\n",
              "      <td>194.74</td>\n",
              "      <td>198.6500</td>\n",
              "      <td>194.030</td>\n",
              "      <td>198.45</td>\n",
              "      <td>19684193</td>\n",
              "    </tr>\n",
              "    <tr>\n",
              "      <th>2</th>\n",
              "      <td>2018-07-03</td>\n",
              "      <td>194.55</td>\n",
              "      <td>195.4000</td>\n",
              "      <td>192.520</td>\n",
              "      <td>192.73</td>\n",
              "      <td>13489514</td>\n",
              "    </tr>\n",
              "    <tr>\n",
              "      <th>3</th>\n",
              "      <td>2018-07-02</td>\n",
              "      <td>193.37</td>\n",
              "      <td>197.4500</td>\n",
              "      <td>192.220</td>\n",
              "      <td>197.36</td>\n",
              "      <td>13961578</td>\n",
              "    </tr>\n",
              "    <tr>\n",
              "      <th>4</th>\n",
              "      <td>2018-06-29</td>\n",
              "      <td>197.32</td>\n",
              "      <td>197.5997</td>\n",
              "      <td>193.955</td>\n",
              "      <td>194.32</td>\n",
              "      <td>15811602</td>\n",
              "    </tr>\n",
              "  </tbody>\n",
              "</table>\n",
              "</div>"
            ],
            "text/plain": [
              "    timestamp    open      high      low   close    volume\n",
              "0  2018-07-06  198.45  203.6400  197.700  203.23  19740131\n",
              "1  2018-07-05  194.74  198.6500  194.030  198.45  19684193\n",
              "2  2018-07-03  194.55  195.4000  192.520  192.73  13489514\n",
              "3  2018-07-02  193.37  197.4500  192.220  197.36  13961578\n",
              "4  2018-06-29  197.32  197.5997  193.955  194.32  15811602"
            ]
          },
          "metadata": {
            "tags": []
          },
          "execution_count": 6
        }
      ]
    },
    {
      "metadata": {
        "id": "1IJbcMkNKU0c",
        "colab_type": "code",
        "colab": {
          "autoexec": {
            "startup": false,
            "wait_interval": 0
          },
          "base_uri": "https://localhost:8080/",
          "height": 0
        },
        "outputId": "021ae7a8-1e5e-49e3-f8bb-59facc8485d3",
        "executionInfo": {
          "status": "ok",
          "timestamp": 1531059206859,
          "user_tz": -180,
          "elapsed": 769,
          "user": {
            "displayName": "Юрий Благовещенский",
            "photoUrl": "https://lh3.googleusercontent.com/a/default-user=s128",
            "userId": "106903727385134277650"
          }
        }
      },
      "cell_type": "code",
      "source": [
        "aapl = aapl.loc[:3650]\n",
        "goog = goog.loc[:3650]\n",
        "fb = fb.loc[:3650]"
      ],
      "execution_count": 7,
      "outputs": []
    },
    {
      "metadata": {
        "id": "Udj3tVmIrjqW",
        "colab_type": "text"
      },
      "cell_type": "markdown",
      "source": [
        "## Question 2\n",
        "\n",
        "- Compute returns r_i = (P_{i+1} - P_{i}) / P_{i}, where i is today, and i + 1 is tomorrow\n",
        "- So r_i represents the return of an investment buying / selling today (day i) to\n",
        "  selling / buying tomorrow (day i + 1).\n",
        "\n",
        "- Can you compute some statistics on the return time series?\n",
        "- For each stock\n",
        "  - What is its distribution? Gaussian, Student-t with \\nu degrees of freedom?\n",
        "  - Is the distribution stationary over time?\n",
        "    (Hint: look for stationarity tests)\n",
        "  - Is there any auto-correlation in the time series?\n",
        "  - Is there any interesting relationships between the returns of different stocks at the same time\n",
        "    (contemporaneous) and not?\n",
        "    (Suggestion: look at correlation, Granger causality, PCA decomposition of returns"
      ]
    },
    {
      "metadata": {
        "id": "EfDQMtihHpDB",
        "colab_type": "code",
        "colab": {
          "autoexec": {
            "startup": false,
            "wait_interval": 0
          },
          "base_uri": "https://localhost:8080/",
          "height": 0
        },
        "outputId": "079c69f8-7138-4c63-fab5-bc589575cc9c",
        "executionInfo": {
          "status": "ok",
          "timestamp": 1531059207971,
          "user_tz": -180,
          "elapsed": 1012,
          "user": {
            "displayName": "Юрий Благовещенский",
            "photoUrl": "https://lh3.googleusercontent.com/a/default-user=s128",
            "userId": "106903727385134277650"
          }
        }
      },
      "cell_type": "code",
      "source": [
        "for df in [aapl, goog, fb]:\n",
        "    df['timestamp'] = df['timestamp'].apply(pd.to_datetime)\n",
        "    df.set_index('timestamp')\n",
        "    df['return'] = df\\\n",
        "        .rolling(window=2)\\\n",
        "        ['close']\\\n",
        "        .apply(lambda x: (x[1] - x[0]) / x[0])"
      ],
      "execution_count": 8,
      "outputs": []
    },
    {
      "metadata": {
        "id": "hATtTseLO6AN",
        "colab_type": "code",
        "colab": {
          "autoexec": {
            "startup": false,
            "wait_interval": 0
          },
          "base_uri": "https://localhost:8080/",
          "height": 0
        },
        "outputId": "95c187da-c4aa-4a78-bcb0-39ce362ee4ba",
        "executionInfo": {
          "status": "ok",
          "timestamp": 1531059208772,
          "user_tz": -180,
          "elapsed": 723,
          "user": {
            "displayName": "Юрий Благовещенский",
            "photoUrl": "https://lh3.googleusercontent.com/a/default-user=s128",
            "userId": "106903727385134277650"
          }
        }
      },
      "cell_type": "code",
      "source": [
        "df = aapl[['return']]\\\n",
        "  .join(goog[['return']], lsuffix='_aapl', rsuffix='_goog')\\\n",
        "  .join(fb[['return']].rename(columns={'return':'return_fb'}))\\\n",
        "  .set_index(aapl['timestamp'])\\\n",
        "  .iloc[1:]"
      ],
      "execution_count": 9,
      "outputs": []
    },
    {
      "metadata": {
        "id": "WoooFw-GbFXI",
        "colab_type": "code",
        "colab": {
          "autoexec": {
            "startup": false,
            "wait_interval": 0
          },
          "base_uri": "https://localhost:8080/",
          "height": 516
        },
        "outputId": "329a1a04-08b4-4047-fe50-403dceb17ca7",
        "executionInfo": {
          "status": "ok",
          "timestamp": 1531059209945,
          "user_tz": -180,
          "elapsed": 1075,
          "user": {
            "displayName": "Юрий Благовещенский",
            "photoUrl": "https://lh3.googleusercontent.com/a/default-user=s128",
            "userId": "106903727385134277650"
          }
        }
      },
      "cell_type": "code",
      "source": [
        "subplots = df.plot(subplots=True, figsize=(23,9))\n",
        "\n",
        "subplots[0].set_ylim((-0.125, 0.3))\n",
        "plt.show();"
      ],
      "execution_count": 10,
      "outputs": [
        {
          "output_type": "display_data",
          "data": {
            "image/png": "[encoded data removed]",
            "text/plain": [
              "<matplotlib.figure.Figure at 0x7fae72b66990>"
            ]
          },
          "metadata": {
            "tags": []
          }
        }
      ]
    },
    {
      "metadata": {
        "id": "0lxWR4t6SJz6",
        "colab_type": "code",
        "colab": {
          "autoexec": {
            "startup": false,
            "wait_interval": 0
          },
          "base_uri": "https://localhost:8080/",
          "height": 443
        },
        "outputId": "f99ecb67-c67e-4c37-e425-20d7e9f9221a",
        "executionInfo": {
          "status": "ok",
          "timestamp": 1531059211599,
          "user_tz": -180,
          "elapsed": 1295,
          "user": {
            "displayName": "Юрий Благовещенский",
            "photoUrl": "https://lh3.googleusercontent.com/a/default-user=s128",
            "userId": "106903727385134277650"
          }
        }
      },
      "cell_type": "code",
      "source": [
        "df['return_aapl'] = df['return_aapl'].apply(lambda x: x if x < 0.3 else 0.3)\n",
        "# мы ограничиваем aapl сверху, чтобы посмотреть распределение, в расчетах, очевидно, будем использовать настоящие значения\n",
        "df\\\n",
        "  .hist(bins=100, figsize=(15,7));"
      ],
      "execution_count": 11,
      "outputs": [
        {
          "output_type": "display_data",
          "data": {
            "image/png": "[encoded data removed]",
            "text/plain": [
              "<matplotlib.figure.Figure at 0x7fae705e2750>"
            ]
          },
          "metadata": {
            "tags": []
          }
        }
      ]
    },
    {
      "metadata": {
        "id": "XHZbNR2hbhde",
        "colab_type": "code",
        "colab": {
          "autoexec": {
            "startup": false,
            "wait_interval": 0
          },
          "base_uri": "https://localhost:8080/",
          "height": 0
        },
        "outputId": "6974bb21-b78d-4aa6-f5a9-355d72575557",
        "executionInfo": {
          "status": "ok",
          "timestamp": 1531059212218,
          "user_tz": -180,
          "elapsed": 524,
          "user": {
            "displayName": "Юрий Благовещенский",
            "photoUrl": "https://lh3.googleusercontent.com/a/default-user=s128",
            "userId": "106903727385134277650"
          }
        }
      },
      "cell_type": "code",
      "source": [
        "df = aapl[['return']]\\\n",
        "  .join(goog[['return']], lsuffix='_aapl', rsuffix='_goog')\\\n",
        "  .join(fb[['return']].rename(columns={'return':'return_fb'}))\\\n",
        "  .set_index(aapl['timestamp'])\\\n",
        "  .iloc[1:]"
      ],
      "execution_count": 12,
      "outputs": []
    },
    {
      "metadata": {
        "id": "31zV5T56iuF_",
        "colab_type": "code",
        "colab": {
          "autoexec": {
            "startup": false,
            "wait_interval": 0
          },
          "base_uri": "https://localhost:8080/",
          "height": 0
        },
        "outputId": "67482318-546f-4a39-d59f-5899291f20cf",
        "executionInfo": {
          "status": "ok",
          "timestamp": 1531059214931,
          "user_tz": -180,
          "elapsed": 781,
          "user": {
            "displayName": "Юрий Благовещенский",
            "photoUrl": "https://lh3.googleusercontent.com/a/default-user=s128",
            "userId": "106903727385134277650"
          }
        }
      },
      "cell_type": "code",
      "source": [
        "import scipy as sp"
      ],
      "execution_count": 13,
      "outputs": []
    },
    {
      "metadata": {
        "id": "0SJ9hF5giqJ1",
        "colab_type": "code",
        "colab": {
          "autoexec": {
            "startup": false,
            "wait_interval": 0
          },
          "base_uri": "https://localhost:8080/",
          "height": 128
        },
        "outputId": "fc088ec3-0f48-4046-82e2-a11a546be652",
        "executionInfo": {
          "status": "ok",
          "timestamp": 1531059215579,
          "user_tz": -180,
          "elapsed": 560,
          "user": {
            "displayName": "Юрий Благовещенский",
            "photoUrl": "https://lh3.googleusercontent.com/a/default-user=s128",
            "userId": "106903727385134277650"
          }
        }
      },
      "cell_type": "code",
      "source": [
        "for col in df:\n",
        "    # проверка на нормальное распределение\n",
        "    k2, p = sp.stats.normaltest(df[col].dropna())\n",
        "    print(col)\n",
        "#     print('k2', k2)\n",
        "    print('p', p)"
      ],
      "execution_count": 14,
      "outputs": [
        {
          "output_type": "stream",
          "text": [
            "return_aapl\n",
            "('p', 0.0)\n",
            "return_goog\n",
            "('p', 3.8569814974350766e-58)\n",
            "return_fb\n",
            "('p', 2.5372037494337716e-87)\n"
          ],
          "name": "stdout"
        }
      ]
    },
    {
      "metadata": {
        "id": "2rsNStAFjT9y",
        "colab_type": "text"
      },
      "cell_type": "markdown",
      "source": [
        "Исходя из того, что p достаточно малы, мы можем отвергнуть гипотезу о том, что распределение величин нормальное. Проверим каждую переменную на т-распределение."
      ]
    },
    {
      "metadata": {
        "id": "dW-2WfA_jS7M",
        "colab_type": "code",
        "colab": {
          "autoexec": {
            "startup": false,
            "wait_interval": 0
          },
          "base_uri": "https://localhost:8080/",
          "height": 17
        },
        "outputId": "7d7e140a-9de9-48e9-c75e-aa9916c814ec",
        "executionInfo": {
          "status": "ok",
          "timestamp": 1531059226050,
          "user_tz": -180,
          "elapsed": 559,
          "user": {
            "displayName": "Юрий Благовещенский",
            "photoUrl": "https://lh3.googleusercontent.com/a/default-user=s128",
            "userId": "106903727385134277650"
          }
        }
      },
      "cell_type": "code",
      "source": [
        "def student_test(samples, prec, confidence=0.9):\n",
        "    \"\"\"\n",
        "    Student's t-test.\n",
        "\n",
        "    Parameters\n",
        "    ----------\n",
        "    samples : list\n",
        "        List of numbers generated from your stochastic process.\n",
        "    prec : scalar\n",
        "        Desired distance between the empirical and real mean.\n",
        "    confidence : scalar\n",
        "        Desired probability of correct answer.\n",
        "\n",
        "    Returns\n",
        "    -------\n",
        "    result : bool\n",
        "        True if and only if your samples pass Student's t-test.\n",
        "    \"\"\"\n",
        "    assert 0. < confidence < 1.\n",
        "    n = len(samples)\n",
        "    sigma = std(samples)\n",
        "    quantile = sp.stats.t.ppf(confidence, n - 1)\n",
        "    return quantile * sigma / sqrt(n) < prec"
      ],
      "execution_count": 15,
      "outputs": []
    },
    {
      "metadata": {
        "id": "I08MySH2lAuK",
        "colab_type": "code",
        "colab": {
          "autoexec": {
            "startup": false,
            "wait_interval": 0
          },
          "base_uri": "https://localhost:8080/",
          "height": 73
        },
        "outputId": "eada2ca7-c1f6-490e-9235-71c5ff268b76",
        "executionInfo": {
          "status": "ok",
          "timestamp": 1531059231096,
          "user_tz": -180,
          "elapsed": 554,
          "user": {
            "displayName": "Юрий Благовещенский",
            "photoUrl": "https://lh3.googleusercontent.com/a/default-user=s128",
            "userId": "106903727385134277650"
          }
        }
      },
      "cell_type": "code",
      "source": [
        "for col in df:\n",
        "    test_result = student_test(df[col].dropna(), 0.005)\n",
        "    print(col, test_result)"
      ],
      "execution_count": 16,
      "outputs": [
        {
          "output_type": "stream",
          "text": [
            "('return_aapl', True)\n",
            "('return_goog', True)\n",
            "('return_fb', True)\n"
          ],
          "name": "stdout"
        }
      ]
    },
    {
      "metadata": {
        "id": "My7VIVUxVhl8",
        "colab_type": "text"
      },
      "cell_type": "markdown",
      "source": [
        "Видно, что величины имеют т-распределение."
      ]
    },
    {
      "metadata": {
        "id": "eNbP7N2wXvJS",
        "colab_type": "code",
        "colab": {
          "autoexec": {
            "startup": false,
            "wait_interval": 0
          },
          "base_uri": "https://localhost:8080/",
          "height": 74
        },
        "outputId": "0dc22190-c0c9-4363-91df-31103e171b88",
        "executionInfo": {
          "status": "ok",
          "timestamp": 1531060006932,
          "user_tz": -180,
          "elapsed": 546,
          "user": {
            "displayName": "Юрий Благовещенский",
            "photoUrl": "https://lh3.googleusercontent.com/a/default-user=s128",
            "userId": "106903727385134277650"
          }
        }
      },
      "cell_type": "code",
      "source": [
        "import statsmodels.api as sm"
      ],
      "execution_count": 24,
      "outputs": [
        {
          "output_type": "stream",
          "text": [
            "/usr/local/lib/python2.7/dist-packages/statsmodels/compat/pandas.py:56: FutureWarning: The pandas.core.datetools module is deprecated and will be removed in a future version. Please use the pandas.tseries module instead.\n",
            "  from pandas.core import datetools\n"
          ],
          "name": "stderr"
        }
      ]
    },
    {
      "metadata": {
        "id": "fNsuh0J6mLM3",
        "colab_type": "code",
        "colab": {
          "autoexec": {
            "startup": false,
            "wait_interval": 0
          },
          "base_uri": "https://localhost:8080/",
          "height": 128
        },
        "outputId": "adceb269-8fcf-4ac6-9ec2-547d3694db48",
        "executionInfo": {
          "status": "ok",
          "timestamp": 1531061355388,
          "user_tz": -180,
          "elapsed": 607,
          "user": {
            "displayName": "Юрий Благовещенский",
            "photoUrl": "https://lh3.googleusercontent.com/a/default-user=s128",
            "userId": "106903727385134277650"
          }
        }
      },
      "cell_type": "code",
      "source": [
        "acorrs = {'return_aapl': [], 'return_goog': [], 'return_fb': []}\n",
        "for col in ['return_aapl', 'return_goog', 'return_fb']:\n",
        "    statistic, pval = sm.stats.diagnostic.acorr_ljungbox(df[col].dropna(), lags=360)\n",
        "    for i, pv in enumerate(pval):\n",
        "        if pv < 0.05:\n",
        "            acorrs[col].append(i)\n",
        "    print col, len(acorrs[col])\n",
        "    print"
      ],
      "execution_count": 38,
      "outputs": [
        {
          "output_type": "stream",
          "text": [
            "return_aapl 0\n",
            "\n",
            "return_goog 346\n",
            "\n",
            "return_fb 0\n",
            "\n"
          ],
          "name": "stdout"
        }
      ]
    },
    {
      "metadata": {
        "id": "buoRYXKZW1xq",
        "colab_type": "text"
      },
      "cell_type": "markdown",
      "source": [
        "Из вывода видно, что google имеет автокорреляцию."
      ]
    },
    {
      "metadata": {
        "id": "8PEnMrheTluZ",
        "colab_type": "code",
        "colab": {
          "autoexec": {
            "startup": false,
            "wait_interval": 0
          },
          "base_uri": "https://localhost:8080/",
          "height": 17
        },
        "outputId": "2d3ff41d-ab9f-46d8-b3fa-56394b61d603",
        "executionInfo": {
          "status": "ok",
          "timestamp": 1531060619740,
          "user_tz": -180,
          "elapsed": 410,
          "user": {
            "displayName": "Юрий Благовещенский",
            "photoUrl": "https://lh3.googleusercontent.com/a/default-user=s128",
            "userId": "106903727385134277650"
          }
        }
      },
      "cell_type": "code",
      "source": [
        "def acorrtest()\n",
        "    statisctic, pvalue = sm.stats.diagnostic.acorr_ljungbox(df['return_aapl'], lags=360)\n",
        "    for i, pval in enumerate(pvalue):\n",
        "        if pval < 0.05:\n",
        "            print i"
      ],
      "execution_count": 28,
      "outputs": []
    },
    {
      "metadata": {
        "id": "fLPK8wcxRFUz",
        "colab_type": "code",
        "colab": {
          "autoexec": {
            "startup": false,
            "wait_interval": 0
          },
          "base_uri": "https://localhost:8080/",
          "height": 0
        },
        "outputId": "6da8a468-65ec-4012-c10e-885cbb5fc418",
        "executionInfo": {
          "status": "ok",
          "timestamp": 1531059662379,
          "user_tz": -180,
          "elapsed": 597,
          "user": {
            "displayName": "Юрий Благовещенский",
            "photoUrl": "https://lh3.googleusercontent.com/a/default-user=s128",
            "userId": "106903727385134277650"
          }
        }
      },
      "cell_type": "code",
      "source": [
        "import seaborn as sns"
      ],
      "execution_count": 21,
      "outputs": []
    },
    {
      "metadata": {
        "id": "eWZPuRowQrkd",
        "colab_type": "code",
        "colab": {
          "autoexec": {
            "startup": false,
            "wait_interval": 0
          },
          "base_uri": "https://localhost:8080/",
          "height": 269
        },
        "outputId": "f2996b8c-a350-42c6-c756-9b60dff9083f",
        "executionInfo": {
          "status": "ok",
          "timestamp": 1531059712560,
          "user_tz": -180,
          "elapsed": 681,
          "user": {
            "displayName": "Юрий Благовещенский",
            "photoUrl": "https://lh3.googleusercontent.com/a/default-user=s128",
            "userId": "106903727385134277650"
          }
        }
      },
      "cell_type": "code",
      "source": [
        "sns.heatmap(df.dropna().corr());"
      ],
      "execution_count": 23,
      "outputs": [
        {
          "output_type": "display_data",
          "data": {
            "image/png": "[encoded data removed]",
            "text/plain": [
              "<matplotlib.figure.Figure at 0x7fae6e63a790>"
            ]
          },
          "metadata": {
            "tags": []
          }
        }
      ]
    },
    {
      "metadata": {
        "id": "Bi572dw5Rav4",
        "colab_type": "text"
      },
      "cell_type": "markdown",
      "source": [
        "Из графика корреляции видно, что есть незначительная кореляция между стоимостью google и facebook, а apple не связан с двумя другими."
      ]
    },
    {
      "metadata": {
        "id": "_MZTfOFFYUKc",
        "colab_type": "code",
        "colab": {
          "autoexec": {
            "startup": false,
            "wait_interval": 0
          },
          "base_uri": "https://localhost:8080/",
          "height": 0
        },
        "outputId": "1b8129bd-d6d8-442e-a369-fa3972997889",
        "executionInfo": {
          "status": "ok",
          "timestamp": 1531062011738,
          "user_tz": -180,
          "elapsed": 548,
          "user": {
            "displayName": "Юрий Благовещенский",
            "photoUrl": "https://lh3.googleusercontent.com/a/default-user=s128",
            "userId": "106903727385134277650"
          }
        }
      },
      "cell_type": "code",
      "source": [
        "from sklearn import decomposition\n",
        "from sklearn.preprocessing import StandardScaler"
      ],
      "execution_count": 46,
      "outputs": []
    },
    {
      "metadata": {
        "id": "xtB0f1FJaEQ5",
        "colab_type": "code",
        "colab": {
          "autoexec": {
            "startup": false,
            "wait_interval": 0
          },
          "base_uri": "https://localhost:8080/",
          "height": 17
        },
        "outputId": "0a933396-d8f4-4263-82af-94a8be87c803",
        "executionInfo": {
          "status": "ok",
          "timestamp": 1531062064705,
          "user_tz": -180,
          "elapsed": 513,
          "user": {
            "displayName": "Юрий Благовещенский",
            "photoUrl": "https://lh3.googleusercontent.com/a/default-user=s128",
            "userId": "106903727385134277650"
          }
        }
      },
      "cell_type": "code",
      "source": [
        "x = StandardScaler().fit_transform(df.dropna())"
      ],
      "execution_count": 48,
      "outputs": []
    },
    {
      "metadata": {
        "id": "_LzBMhIKY_uU",
        "colab_type": "code",
        "colab": {
          "autoexec": {
            "startup": false,
            "wait_interval": 0
          },
          "base_uri": "https://localhost:8080/",
          "height": 17
        },
        "outputId": "b27d296e-dce3-4744-8895-417919d8899a",
        "executionInfo": {
          "status": "ok",
          "timestamp": 1531062100212,
          "user_tz": -180,
          "elapsed": 571,
          "user": {
            "displayName": "Юрий Благовещенский",
            "photoUrl": "https://lh3.googleusercontent.com/a/default-user=s128",
            "userId": "106903727385134277650"
          }
        }
      },
      "cell_type": "code",
      "source": [
        "pca = decomposition.PCA(n_components=2)\n",
        "pdf = pd.DataFrame(pca.fit_transform(x), columns=['x', 'y'])"
      ],
      "execution_count": 51,
      "outputs": []
    },
    {
      "metadata": {
        "id": "n3iyx208ZrV4",
        "colab_type": "code",
        "colab": {
          "autoexec": {
            "startup": false,
            "wait_interval": 0
          },
          "base_uri": "https://localhost:8080/",
          "height": 279
        },
        "outputId": "2a4f6ffc-0aee-4516-ea46-256482ed8909",
        "executionInfo": {
          "status": "ok",
          "timestamp": 1531062120663,
          "user_tz": -180,
          "elapsed": 603,
          "user": {
            "displayName": "Юрий Благовещенский",
            "photoUrl": "https://lh3.googleusercontent.com/a/default-user=s128",
            "userId": "106903727385134277650"
          }
        }
      },
      "cell_type": "code",
      "source": [
        "pdf.plot(kind='scatter', x='x', y='y');"
      ],
      "execution_count": 53,
      "outputs": [
        {
          "output_type": "display_data",
          "data": {
            "image/png": "[encoded data removed]",
            "text/plain": [
              "<matplotlib.figure.Figure at 0x7fae6ea85dd0>"
            ]
          },
          "metadata": {
            "tags": []
          }
        }
      ]
    },
    {
      "metadata": {
        "id": "2kr1k6uuakIM",
        "colab_type": "text"
      },
      "cell_type": "markdown",
      "source": [
        "Видно, что есть область близких значений."
      ]
    },
    {
      "metadata": {
        "id": "XT2J_G2FmNtg",
        "colab_type": "code",
        "colab": {
          "autoexec": {
            "startup": false,
            "wait_interval": 0
          },
          "base_uri": "https://localhost:8080/",
          "height": 128
        },
        "outputId": "462c084f-6ae8-40a2-cec7-f3fb3162f800",
        "executionInfo": {
          "status": "ok",
          "timestamp": 1530981385159,
          "user_tz": -180,
          "elapsed": 613,
          "user": {
            "displayName": "Юрий Благовещенский",
            "photoUrl": "https://lh3.googleusercontent.com/a/default-user=s128",
            "userId": "106903727385134277650"
          }
        }
      },
      "cell_type": "code",
      "source": [
        "for col in df:\n",
        "    autocorr = estimated_autocorrelation(df[col].dropna())\n",
        "    print(col, autocorr)"
      ],
      "execution_count": 43,
      "outputs": [
        {
          "output_type": "stream",
          "text": [
            "return_aapl [ 9.99726027e-01 -3.31113652e-05 -1.00693263e-03 ... -1.00057593e-02\n",
            "  3.37865675e-02  3.25021321e-02]\n",
            "return_goog [ 0.99907149  0.05730565 -0.01832399 ...  0.12110594 -0.09967277\n",
            "  0.14471294]\n",
            "return_fb [ 9.99351492e-01  2.14379108e-02 -3.58868483e-03 ...  6.72278018e-01\n",
            " -5.65385551e+00 -5.57943048e+00]\n"
          ],
          "name": "stdout"
        }
      ]
    },
    {
      "metadata": {
        "id": "-Jf0pBlKmWIK",
        "colab_type": "code",
        "colab": {
          "autoexec": {
            "startup": false,
            "wait_interval": 0
          }
        }
      },
      "cell_type": "code",
      "source": [
        ""
      ],
      "execution_count": 0,
      "outputs": []
    },
    {
      "metadata": {
        "id": "wvVlCNKuI9iH",
        "colab_type": "code",
        "colab": {
          "autoexec": {
            "startup": false,
            "wait_interval": 0
          },
          "base_uri": "https://localhost:8080/",
          "height": 300
        },
        "outputId": "91c07985-f8e9-4349-c7e7-4109da6b57f8",
        "executionInfo": {
          "status": "ok",
          "timestamp": 1530978823963,
          "user_tz": -180,
          "elapsed": 606,
          "user": {
            "displayName": "Юрий Благовещенский",
            "photoUrl": "https://lh3.googleusercontent.com/a/default-user=s128",
            "userId": "106903727385134277650"
          }
        }
      },
      "cell_type": "code",
      "source": [
        "df.describe()"
      ],
      "execution_count": 139,
      "outputs": [
        {
          "output_type": "execute_result",
          "data": {
            "text/html": [
              "<div>\n",
              "<style scoped>\n",
              "    .dataframe tbody tr th:only-of-type {\n",
              "        vertical-align: middle;\n",
              "    }\n",
              "\n",
              "    .dataframe tbody tr th {\n",
              "        vertical-align: top;\n",
              "    }\n",
              "\n",
              "    .dataframe thead th {\n",
              "        text-align: right;\n",
              "    }\n",
              "</style>\n",
              "<table border=\"1\" class=\"dataframe\">\n",
              "  <thead>\n",
              "    <tr style=\"text-align: right;\">\n",
              "      <th></th>\n",
              "      <th>return_aapl</th>\n",
              "      <th>return_goog</th>\n",
              "      <th>return_fb</th>\n",
              "    </tr>\n",
              "  </thead>\n",
              "  <tbody>\n",
              "    <tr>\n",
              "      <th>count</th>\n",
              "      <td>3650.000000</td>\n",
              "      <td>1077.000000</td>\n",
              "      <td>1542.000000</td>\n",
              "    </tr>\n",
              "    <tr>\n",
              "      <th>mean</th>\n",
              "      <td>0.000801</td>\n",
              "      <td>-0.000561</td>\n",
              "      <td>-0.000827</td>\n",
              "    </tr>\n",
              "    <tr>\n",
              "      <th>std</th>\n",
              "      <td>0.101057</td>\n",
              "      <td>0.014169</td>\n",
              "      <td>0.022485</td>\n",
              "    </tr>\n",
              "    <tr>\n",
              "      <th>min</th>\n",
              "      <td>-0.122075</td>\n",
              "      <td>-0.138320</td>\n",
              "      <td>-0.228441</td>\n",
              "    </tr>\n",
              "    <tr>\n",
              "      <th>25%</th>\n",
              "      <td>-0.011733</td>\n",
              "      <td>-0.008169</td>\n",
              "      <td>-0.011749</td>\n",
              "    </tr>\n",
              "    <tr>\n",
              "      <th>50%</th>\n",
              "      <td>-0.000997</td>\n",
              "      <td>-0.000628</td>\n",
              "      <td>-0.001052</td>\n",
              "    </tr>\n",
              "    <tr>\n",
              "      <th>75%</th>\n",
              "      <td>0.008589</td>\n",
              "      <td>0.005818</td>\n",
              "      <td>0.009091</td>\n",
              "    </tr>\n",
              "    <tr>\n",
              "      <th>max</th>\n",
              "      <td>5.889755</td>\n",
              "      <td>0.056165</td>\n",
              "      <td>0.132462</td>\n",
              "    </tr>\n",
              "  </tbody>\n",
              "</table>\n",
              "</div>"
            ],
            "text/plain": [
              "       return_aapl  return_goog    return_fb\n",
              "count  3650.000000  1077.000000  1542.000000\n",
              "mean      0.000801    -0.000561    -0.000827\n",
              "std       0.101057     0.014169     0.022485\n",
              "min      -0.122075    -0.138320    -0.228441\n",
              "25%      -0.011733    -0.008169    -0.011749\n",
              "50%      -0.000997    -0.000628    -0.001052\n",
              "75%       0.008589     0.005818     0.009091\n",
              "max       5.889755     0.056165     0.132462"
            ]
          },
          "metadata": {
            "tags": []
          },
          "execution_count": 139
        }
      ]
    },
    {
      "metadata": {
        "id": "ge_TfZSVY5TU",
        "colab_type": "text"
      },
      "cell_type": "markdown",
      "source": [
        "Из графиков видно, что return - величина нестационарная, но проверим это с помощью statsmodels."
      ]
    },
    {
      "metadata": {
        "id": "9UQA9wtZdWw-",
        "colab_type": "code",
        "colab": {
          "autoexec": {
            "startup": false,
            "wait_interval": 0
          },
          "base_uri": "https://localhost:8080/",
          "height": 128
        },
        "outputId": "4062e539-d66a-47ca-b9b2-321e5e90d84c",
        "executionInfo": {
          "status": "ok",
          "timestamp": 1530979877517,
          "user_tz": -180,
          "elapsed": 616,
          "user": {
            "displayName": "Юрий Благовещенский",
            "photoUrl": "https://lh3.googleusercontent.com/a/default-user=s128",
            "userId": "106903727385134277650"
          }
        }
      },
      "cell_type": "code",
      "source": [
        "test_statistic, pvalue, usedlag, nobs, critical_values, icbest = sm.tsa.stattools.adfuller(df['return_aapl'])\n",
        "\n",
        "print(\n",
        "    'test_statistic', test_statistic, '\\n',\n",
        "    'pvalue', pvalue, '\\n',\n",
        "    'usedflag', usedlag, '\\n',\n",
        "    'observations', nobs, '\\n',\n",
        "    'critical_values', critical_values, '\\n',\n",
        "    'icbest', icbest\n",
        ")"
      ],
      "execution_count": 22,
      "outputs": [
        {
          "output_type": "stream",
          "text": [
            "test_statistic -60.392139859947726 \n",
            " pvalue 0.0 \n",
            " usedflag 0 \n",
            " observations 3649 \n",
            " critical_values {'1%': -3.4321433423211882, '5%': -2.862332398828442, '10%': -2.567191805919415} \n",
            " icbest -6286.108288636919\n"
          ],
          "name": "stdout"
        }
      ]
    },
    {
      "metadata": {
        "id": "EBFejb-MeGf8",
        "colab_type": "code",
        "colab": {
          "autoexec": {
            "startup": false,
            "wait_interval": 0
          },
          "base_uri": "https://localhost:8080/",
          "height": 128
        },
        "outputId": "ff03e0e0-f2ca-482f-a0fc-cb96e5565c0e",
        "executionInfo": {
          "status": "ok",
          "timestamp": 1530980077169,
          "user_tz": -180,
          "elapsed": 622,
          "user": {
            "displayName": "Юрий Благовещенский",
            "photoUrl": "https://lh3.googleusercontent.com/a/default-user=s128",
            "userId": "106903727385134277650"
          }
        }
      },
      "cell_type": "code",
      "source": [
        "test_statistic, pvalue, usedlag, nobs, critical_values, icbest = sm.tsa.stattools.adfuller(df['return_goog'].dropna())\n",
        "\n",
        "print(\n",
        "    'test_statistic', test_statistic, '\\n',\n",
        "    'pvalue', pvalue, '\\n',\n",
        "    'usedflag', usedlag, '\\n',\n",
        "    'observations', nobs, '\\n',\n",
        "    'critical_values', critical_values, '\\n',\n",
        "    'icbest', icbest\n",
        ")"
      ],
      "execution_count": 25,
      "outputs": [
        {
          "output_type": "stream",
          "text": [
            "test_statistic -30.95729200165903 \n",
            " pvalue 0.0 \n",
            " usedflag 0 \n",
            " observations 1076 \n",
            " critical_values {'1%': -3.436441978605957, '5%': -2.864229841568573, '10%': -2.5682021659802934} \n",
            " icbest -5975.610304305363\n"
          ],
          "name": "stdout"
        }
      ]
    },
    {
      "metadata": {
        "id": "PHVQPNydhZKQ",
        "colab_type": "code",
        "colab": {
          "autoexec": {
            "startup": false,
            "wait_interval": 0
          },
          "base_uri": "https://localhost:8080/",
          "height": 128
        },
        "outputId": "bf3c0aa8-dba9-4b9a-d72b-737932349d63",
        "executionInfo": {
          "status": "ok",
          "timestamp": 1530980086884,
          "user_tz": -180,
          "elapsed": 880,
          "user": {
            "displayName": "Юрий Благовещенский",
            "photoUrl": "https://lh3.googleusercontent.com/a/default-user=s128",
            "userId": "106903727385134277650"
          }
        }
      },
      "cell_type": "code",
      "source": [
        "test_statistic, pvalue, usedlag, nobs, critical_values, icbest = sm.tsa.stattools.adfuller(df['return_aapl'].dropna())\n",
        "\n",
        "print(\n",
        "    'test_statistic', test_statistic, '\\n',\n",
        "    'pvalue', pvalue, '\\n',\n",
        "    'usedflag', usedlag, '\\n',\n",
        "    'observations', nobs, '\\n',\n",
        "    'critical_values', critical_values, '\\n',\n",
        "    'icbest', icbest\n",
        ")"
      ],
      "execution_count": 26,
      "outputs": [
        {
          "output_type": "stream",
          "text": [
            "test_statistic -60.392139859947726 \n",
            " pvalue 0.0 \n",
            " usedflag 0 \n",
            " observations 3649 \n",
            " critical_values {'1%': -3.4321433423211882, '5%': -2.862332398828442, '10%': -2.567191805919415} \n",
            " icbest -6286.108288636919\n"
          ],
          "name": "stdout"
        }
      ]
    },
    {
      "metadata": {
        "id": "7k0cw8DEiUF0",
        "colab_type": "text"
      },
      "cell_type": "markdown",
      "source": [
        "## Question 3\n",
        "\n",
        "- Assume you have an equity strategy that every day makes a prediction f_i on the value of r_i\n",
        "\n",
        "- The profit-and-loss (pnl) for each day is\n",
        "\n",
        "   pnl_i = f_i * r_i\n",
        "\n",
        "- Assume that f_i is standard Gaussian with mean = 0 and std dev = 1\n",
        "\n",
        "- Generate a few random realizations of f_i: plot pnl_i and pnl = cumsum(pnl_i)\n"
      ]
    },
    {
      "metadata": {
        "id": "FSQ2-7KnhkWn",
        "colab_type": "code",
        "colab": {
          "autoexec": {
            "startup": false,
            "wait_interval": 0
          },
          "base_uri": "https://localhost:8080/",
          "height": 257
        },
        "outputId": "7ef05e8d-aece-4d72-c0c8-25249504be45",
        "executionInfo": {
          "status": "ok",
          "timestamp": 1531068570114,
          "user_tz": -180,
          "elapsed": 550,
          "user": {
            "displayName": "Юрий Благовещенский",
            "photoUrl": "https://lh3.googleusercontent.com/a/default-user=s128",
            "userId": "106903727385134277650"
          }
        }
      },
      "cell_type": "code",
      "source": [
        "# pnl_df = pd.DataFrame()\n",
        "for col in ['return_aapl', 'return_goog', 'return_fb']:\n",
        "    df[col.strip('return_') + '_f'] = np.random.randn(df.shape[0])\n",
        "    df[col.strip('return_') + '_pnl'] = df[col] * df[col.strip('return_') + '_f']\n",
        "    df[col.strip('return_') + '_pnl_csum'] = df[col.strip('return_') + '_pnl'].cumsum()\n",
        "\n",
        "df.head()"
      ],
      "execution_count": 121,
      "outputs": [
        {
          "output_type": "execute_result",
          "data": {
            "text/html": [
              "<div>\n",
              "<style scoped>\n",
              "    .dataframe tbody tr th:only-of-type {\n",
              "        vertical-align: middle;\n",
              "    }\n",
              "\n",
              "    .dataframe tbody tr th {\n",
              "        vertical-align: top;\n",
              "    }\n",
              "\n",
              "    .dataframe thead th {\n",
              "        text-align: right;\n",
              "    }\n",
              "</style>\n",
              "<table border=\"1\" class=\"dataframe\">\n",
              "  <thead>\n",
              "    <tr style=\"text-align: right;\">\n",
              "      <th></th>\n",
              "      <th>return_aapl</th>\n",
              "      <th>return_goog</th>\n",
              "      <th>return_fb</th>\n",
              "      <th>aapl_f</th>\n",
              "      <th>aapl_pnl</th>\n",
              "      <th>aapl_pnl_csum</th>\n",
              "      <th>goog_f</th>\n",
              "      <th>goog_pnl</th>\n",
              "      <th>goog_pnl_csum</th>\n",
              "      <th>fb_f</th>\n",
              "      <th>fb_pnl</th>\n",
              "      <th>fb_pnl_csum</th>\n",
              "      <th>aaplSR</th>\n",
              "      <th>googSR</th>\n",
              "      <th>fbSR</th>\n",
              "    </tr>\n",
              "    <tr>\n",
              "      <th>timestamp</th>\n",
              "      <th></th>\n",
              "      <th></th>\n",
              "      <th></th>\n",
              "      <th></th>\n",
              "      <th></th>\n",
              "      <th></th>\n",
              "      <th></th>\n",
              "      <th></th>\n",
              "      <th></th>\n",
              "      <th></th>\n",
              "      <th></th>\n",
              "      <th></th>\n",
              "      <th></th>\n",
              "      <th></th>\n",
              "      <th></th>\n",
              "    </tr>\n",
              "  </thead>\n",
              "  <tbody>\n",
              "    <tr>\n",
              "      <th>2018-07-05</th>\n",
              "      <td>-0.013672</td>\n",
              "      <td>-0.013945</td>\n",
              "      <td>-0.023520</td>\n",
              "      <td>-0.497666</td>\n",
              "      <td>0.006804</td>\n",
              "      <td>0.006804</td>\n",
              "      <td>-2.669445</td>\n",
              "      <td>0.037226</td>\n",
              "      <td>0.037226</td>\n",
              "      <td>-1.969209</td>\n",
              "      <td>0.046316</td>\n",
              "      <td>0.046316</td>\n",
              "      <td>0.003390</td>\n",
              "      <td>0.027239</td>\n",
              "      <td>0.006646</td>\n",
              "    </tr>\n",
              "    <tr>\n",
              "      <th>2018-07-03</th>\n",
              "      <td>-0.007983</td>\n",
              "      <td>-0.019017</td>\n",
              "      <td>-0.028823</td>\n",
              "      <td>0.565148</td>\n",
              "      <td>-0.004511</td>\n",
              "      <td>0.002293</td>\n",
              "      <td>0.279702</td>\n",
              "      <td>-0.005319</td>\n",
              "      <td>0.031907</td>\n",
              "      <td>1.829772</td>\n",
              "      <td>-0.052740</td>\n",
              "      <td>-0.006424</td>\n",
              "      <td>-0.000662</td>\n",
              "      <td>0.082231</td>\n",
              "      <td>-0.009772</td>\n",
              "    </tr>\n",
              "    <tr>\n",
              "      <th>2018-07-02</th>\n",
              "      <td>0.017725</td>\n",
              "      <td>0.022278</td>\n",
              "      <td>0.024023</td>\n",
              "      <td>-1.026776</td>\n",
              "      <td>-0.018200</td>\n",
              "      <td>-0.015907</td>\n",
              "      <td>-0.638110</td>\n",
              "      <td>-0.014216</td>\n",
              "      <td>0.017691</td>\n",
              "      <td>-0.957727</td>\n",
              "      <td>-0.023008</td>\n",
              "      <td>-0.029432</td>\n",
              "      <td>0.006595</td>\n",
              "      <td>0.101422</td>\n",
              "      <td>-0.019194</td>\n",
              "    </tr>\n",
              "    <tr>\n",
              "      <th>2018-06-29</th>\n",
              "      <td>-0.011059</td>\n",
              "      <td>-0.010475</td>\n",
              "      <td>-0.015403</td>\n",
              "      <td>-0.258624</td>\n",
              "      <td>0.002860</td>\n",
              "      <td>-0.013047</td>\n",
              "      <td>-0.373977</td>\n",
              "      <td>0.003917</td>\n",
              "      <td>0.021609</td>\n",
              "      <td>-0.574093</td>\n",
              "      <td>0.008843</td>\n",
              "      <td>-0.020589</td>\n",
              "      <td>0.017892</td>\n",
              "      <td>0.108522</td>\n",
              "      <td>0.025836</td>\n",
              "    </tr>\n",
              "    <tr>\n",
              "      <th>2018-06-28</th>\n",
              "      <td>0.002107</td>\n",
              "      <td>-0.001282</td>\n",
              "      <td>0.009829</td>\n",
              "      <td>0.479760</td>\n",
              "      <td>0.001011</td>\n",
              "      <td>-0.012036</td>\n",
              "      <td>0.180858</td>\n",
              "      <td>-0.000232</td>\n",
              "      <td>0.021377</td>\n",
              "      <td>-1.539794</td>\n",
              "      <td>-0.015135</td>\n",
              "      <td>-0.035724</td>\n",
              "      <td>0.013067</td>\n",
              "      <td>0.108116</td>\n",
              "      <td>0.032607</td>\n",
              "    </tr>\n",
              "  </tbody>\n",
              "</table>\n",
              "</div>"
            ],
            "text/plain": [
              "            return_aapl  return_goog  return_fb    aapl_f  aapl_pnl  \\\n",
              "timestamp                                                             \n",
              "2018-07-05    -0.013672    -0.013945  -0.023520 -0.497666  0.006804   \n",
              "2018-07-03    -0.007983    -0.019017  -0.028823  0.565148 -0.004511   \n",
              "2018-07-02     0.017725     0.022278   0.024023 -1.026776 -0.018200   \n",
              "2018-06-29    -0.011059    -0.010475  -0.015403 -0.258624  0.002860   \n",
              "2018-06-28     0.002107    -0.001282   0.009829  0.479760  0.001011   \n",
              "\n",
              "            aapl_pnl_csum    goog_f  goog_pnl  goog_pnl_csum      fb_f  \\\n",
              "timestamp                                                                \n",
              "2018-07-05       0.006804 -2.669445  0.037226       0.037226 -1.969209   \n",
              "2018-07-03       0.002293  0.279702 -0.005319       0.031907  1.829772   \n",
              "2018-07-02      -0.015907 -0.638110 -0.014216       0.017691 -0.957727   \n",
              "2018-06-29      -0.013047 -0.373977  0.003917       0.021609 -0.574093   \n",
              "2018-06-28      -0.012036  0.180858 -0.000232       0.021377 -1.539794   \n",
              "\n",
              "              fb_pnl  fb_pnl_csum    aaplSR    googSR      fbSR  \n",
              "timestamp                                                        \n",
              "2018-07-05  0.046316     0.046316  0.003390  0.027239  0.006646  \n",
              "2018-07-03 -0.052740    -0.006424 -0.000662  0.082231 -0.009772  \n",
              "2018-07-02 -0.023008    -0.029432  0.006595  0.101422 -0.019194  \n",
              "2018-06-29  0.008843    -0.020589  0.017892  0.108522  0.025836  \n",
              "2018-06-28 -0.015135    -0.035724  0.013067  0.108116  0.032607  "
            ]
          },
          "metadata": {
            "tags": []
          },
          "execution_count": 121
        }
      ]
    },
    {
      "metadata": {
        "id": "gztNi_ktoRo8",
        "colab_type": "code",
        "colab": {
          "autoexec": {
            "startup": false,
            "wait_interval": 0
          },
          "base_uri": "https://localhost:8080/",
          "height": 268
        },
        "outputId": "28979d64-a237-4f47-9520-3b5c918d0b67",
        "executionInfo": {
          "status": "ok",
          "timestamp": 1531068570810,
          "user_tz": -180,
          "elapsed": 541,
          "user": {
            "displayName": "Юрий Благовещенский",
            "photoUrl": "https://lh3.googleusercontent.com/a/default-user=s128",
            "userId": "106903727385134277650"
          }
        }
      },
      "cell_type": "code",
      "source": [
        "df[['aapl_pnl', 'aapl_pnl_csum']]\\\n",
        "    .plot();"
      ],
      "execution_count": 122,
      "outputs": [
        {
          "output_type": "display_data",
          "data": {
            "image/png": "[encoded data removed]",
            "text/plain": [
              "<matplotlib.figure.Figure at 0x7fae6903d710>"
            ]
          },
          "metadata": {
            "tags": []
          }
        }
      ]
    },
    {
      "metadata": {
        "id": "qSOmXuwfqt7U",
        "colab_type": "code",
        "colab": {
          "autoexec": {
            "startup": false,
            "wait_interval": 0
          },
          "base_uri": "https://localhost:8080/",
          "height": 275
        },
        "outputId": "3b5a0295-7d8b-44ef-fb32-ec9c4dfc8b2a",
        "executionInfo": {
          "status": "ok",
          "timestamp": 1531068575214,
          "user_tz": -180,
          "elapsed": 676,
          "user": {
            "displayName": "Юрий Благовещенский",
            "photoUrl": "https://lh3.googleusercontent.com/a/default-user=s128",
            "userId": "106903727385134277650"
          }
        }
      },
      "cell_type": "code",
      "source": [
        "df[['goog_pnl', 'goog_pnl_csum']]\\\n",
        "    .plot();"
      ],
      "execution_count": 123,
      "outputs": [
        {
          "output_type": "display_data",
          "data": {
            "image/png": "[encoded data removed]",
            "text/plain": [
              "<matplotlib.figure.Figure at 0x7fae68b7a350>"
            ]
          },
          "metadata": {
            "tags": []
          }
        }
      ]
    },
    {
      "metadata": {
        "id": "86uXieYTqx0X",
        "colab_type": "code",
        "colab": {
          "autoexec": {
            "startup": false,
            "wait_interval": 0
          },
          "base_uri": "https://localhost:8080/",
          "height": 271
        },
        "outputId": "2e2e6d44-58dd-482a-9a53-acc474894630",
        "executionInfo": {
          "status": "ok",
          "timestamp": 1531068578194,
          "user_tz": -180,
          "elapsed": 675,
          "user": {
            "displayName": "Юрий Благовещенский",
            "photoUrl": "https://lh3.googleusercontent.com/a/default-user=s128",
            "userId": "106903727385134277650"
          }
        }
      },
      "cell_type": "code",
      "source": [
        "df[['fb_pnl', 'fb_pnl_csum']]\\\n",
        "    .plot();"
      ],
      "execution_count": 124,
      "outputs": [
        {
          "output_type": "display_data",
          "data": {
            "image/png": "[encoded data removed]",
            "text/plain": [
              "<matplotlib.figure.Figure at 0x7fae68f711d0>"
            ]
          },
          "metadata": {
            "tags": []
          }
        }
      ]
    },
    {
      "metadata": {
        "id": "W7-aNV9Cr0ZC",
        "colab_type": "text"
      },
      "cell_type": "markdown",
      "source": [
        "## Question 4\n",
        "\n",
        "- For a pnl timeseries Sharpe Ratio is defined as SR = E[pnl_i] / \\sqrt{V[pnl_i]}\n",
        "\n",
        "- Assume that f_i has a given hit rate = 1/n \\sum_i I(sign(f_i) == sign(r_i))\n",
        "  - Hit rate is a measure of accuracy: how often we guess the direction of the stock movement correctly\n",
        "- Remember that f_i is a random variable so you can draw different realizations of it\n",
        "- What is the distribution of the SR(pnl_i) given f_i?\n",
        "- Ideally you want to generate a plot varying hit_rate from 0 to 1.0 on the x-axis and computing\n",
        "  the corresponding distribution of SR on the y-axis\n",
        "- Note that pnl_i is a random var since it is a function of the random variable f_i\n",
        "\n",
        "- You can plot the distribution as a box plot or using just mean and std err"
      ]
    },
    {
      "metadata": {
        "id": "9n4jP0uIhpQ-",
        "colab_type": "code",
        "colab": {
          "autoexec": {
            "startup": false,
            "wait_interval": 0
          },
          "base_uri": "https://localhost:8080/",
          "height": 36
        },
        "outputId": "7df64077-609b-4808-d589-3e81e389c4f2",
        "executionInfo": {
          "status": "ok",
          "timestamp": 1531068589232,
          "user_tz": -180,
          "elapsed": 2844,
          "user": {
            "displayName": "Юрий Благовещенский",
            "photoUrl": "https://lh3.googleusercontent.com/a/default-user=s128",
            "userId": "106903727385134277650"
          }
        }
      },
      "cell_type": "code",
      "source": [
        "hit_rates = {}\n",
        "sharp_ratios = {}\n",
        "for col in ['return_aapl', 'return_goog', 'return_fb']:\n",
        "    r = df[col].dropna()\n",
        "    f = df[col.strip('return_') + '_f'].iloc[:len(r)]\n",
        "    \n",
        "    # use this block for hit rate\n",
        "    hr = pd.Series(np.sign(r) == np.sign(f)).apply(lambda x: 1 if x else 0)\n",
        "    hit_rates[col] = 1 / len(r) * hr.cumsum()\n",
        "    \n",
        "    # uncomment these for different metrics\n",
        "    # RMSE\n",
        "    # rmse = pd.Series(np.sqrt(np.mean(f - r)))\n",
        "    # MAD\n",
        "    # mad = pd.Series(np.abs(f - r) / len(r))\n",
        "    SRs = []\n",
        "    \n",
        "    for i, (ri, fi) in enumerate(zip(r, f)):\n",
        "        SR = r[:i].mean() / np.sqrt(np.std(f[:i]))\n",
        "        SRs.append(SR)\n",
        "    \n",
        "    SR = pd.Series(SRs, name=col.strip('return_'))\n",
        "    sharp_ratios[col.strip('return_')] = SRs"
      ],
      "execution_count": 125,
      "outputs": [
        {
          "output_type": "stream",
          "text": [
            "/usr/local/lib/python2.7/dist-packages/ipykernel_launcher.py:19: RuntimeWarning: divide by zero encountered in double_scalars\n"
          ],
          "name": "stderr"
        }
      ]
    },
    {
      "metadata": {
        "id": "y3VFvYLgpkje",
        "colab_type": "text"
      },
      "cell_type": "markdown",
      "source": [
        "Ок, вот тут я не до конца понимаю, что такое на самом деле этот коэффициент Шарпа, но предположим, что это такая бегущая средняя величина по профит-энд-лоссу. Продолжим."
      ]
    },
    {
      "metadata": {
        "id": "mka5I19HvSYK",
        "colab_type": "code",
        "colab": {
          "autoexec": {
            "startup": false,
            "wait_interval": 0
          },
          "base_uri": "https://localhost:8080/",
          "height": 0
        },
        "outputId": "ee69ae89-4bde-4718-f19f-2eeebe79c70b",
        "executionInfo": {
          "status": "ok",
          "timestamp": 1531068597657,
          "user_tz": -180,
          "elapsed": 521,
          "user": {
            "displayName": "Юрий Благовещенский",
            "photoUrl": "https://lh3.googleusercontent.com/a/default-user=s128",
            "userId": "106903727385134277650"
          }
        }
      },
      "cell_type": "code",
      "source": [
        "for col in sharp_ratios:\n",
        "    sharp_ratios[col] = pd.Series(sharp_ratios[col], name=col)"
      ],
      "execution_count": 126,
      "outputs": []
    },
    {
      "metadata": {
        "id": "UAGSakHxuA86",
        "colab_type": "code",
        "colab": {
          "autoexec": {
            "startup": false,
            "wait_interval": 0
          },
          "base_uri": "https://localhost:8080/",
          "height": 0
        },
        "outputId": "6f155c7f-0f7f-426d-f456-c55f18776fa4",
        "executionInfo": {
          "status": "ok",
          "timestamp": 1531068598711,
          "user_tz": -180,
          "elapsed": 585,
          "user": {
            "displayName": "Юрий Благовещенский",
            "photoUrl": "https://lh3.googleusercontent.com/a/default-user=s128",
            "userId": "106903727385134277650"
          }
        }
      },
      "cell_type": "code",
      "source": [
        "# triple zip_longest\n",
        "\n",
        "SR = pd.concat(sharp_ratios, axis=1)[2:]"
      ],
      "execution_count": 127,
      "outputs": []
    },
    {
      "metadata": {
        "id": "_E6IUEftvqMK",
        "colab_type": "code",
        "colab": {
          "autoexec": {
            "startup": false,
            "wait_interval": 0
          },
          "base_uri": "https://localhost:8080/",
          "height": 443
        },
        "outputId": "41b7d05e-9589-445d-eba7-0be727e3303e",
        "executionInfo": {
          "status": "ok",
          "timestamp": 1531068603387,
          "user_tz": -180,
          "elapsed": 1535,
          "user": {
            "displayName": "Юрий Благовещенский",
            "photoUrl": "https://lh3.googleusercontent.com/a/default-user=s128",
            "userId": "106903727385134277650"
          }
        }
      },
      "cell_type": "code",
      "source": [
        "SR.hist(bins=100, figsize=(15,7));"
      ],
      "execution_count": 128,
      "outputs": [
        {
          "output_type": "display_data",
          "data": {
            "image/png": "[encoded data removed]",
            "text/plain": [
              "<matplotlib.figure.Figure at 0x7fae6902b750>"
            ]
          },
          "metadata": {
            "tags": []
          }
        }
      ]
    },
    {
      "metadata": {
        "id": "wUYILHMgwC1w",
        "colab_type": "code",
        "colab": {
          "autoexec": {
            "startup": false,
            "wait_interval": 0
          },
          "base_uri": "https://localhost:8080/",
          "height": 863
        },
        "outputId": "7254440f-28ad-4ae4-d7e8-0ec8b8bd39f9",
        "executionInfo": {
          "status": "ok",
          "timestamp": 1531068650899,
          "user_tz": -180,
          "elapsed": 787,
          "user": {
            "displayName": "Юрий Благовещенский",
            "photoUrl": "https://lh3.googleusercontent.com/a/default-user=s128",
            "userId": "106903727385134277650"
          }
        }
      },
      "cell_type": "code",
      "source": [
        "SR.boxplot(figsize=(6,15));"
      ],
      "execution_count": 131,
      "outputs": [
        {
          "output_type": "display_data",
          "data": {
            "image/png": "[encoded data removed]",
            "text/plain": [
              "<matplotlib.figure.Figure at 0x7fae6e9f6310>"
            ]
          },
          "metadata": {
            "tags": []
          }
        }
      ]
    },
    {
      "metadata": {
        "id": "ev6ZyAtkwcnu",
        "colab_type": "text"
      },
      "cell_type": "markdown",
      "source": [
        "## Question 5\n",
        "\n",
        "- What if instead of hit rate, you use root mean square error (RMSE) between f_i and r_i?\n",
        "- How does the distribution of SR changes?\n",
        "- What if you use mean absolute (MAD) of f_i and r_i?\n",
        "\n",
        "- Make the code flexible to changing input measures (hit rate, RMSE, MAD) and output measures"
      ]
    },
    {
      "metadata": {
        "id": "n-t-KpOyzgEX",
        "colab_type": "text"
      },
      "cell_type": "markdown",
      "source": [
        "If f_i was our actual strategy, we'd have several options:\n",
        "\n",
        "*   hit rate shows only percentage of good decisions, and we can still lose money, if, say, we'd buy a big amount, and sell small - we'd be in debt\n",
        "*   RMSE shows what part of potential income we missed - that's way better.\n",
        "\n"
      ]
    },
    {
      "metadata": {
        "id": "i5cfZ3S7v0ea",
        "colab_type": "code",
        "colab": {
          "autoexec": {
            "startup": false,
            "wait_interval": 0
          }
        }
      },
      "cell_type": "code",
      "source": [
        ""
      ],
      "execution_count": 0,
      "outputs": []
    }
  ]
}